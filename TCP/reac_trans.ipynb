{
 "cells": [
  {
   "cell_type": "markdown",
   "metadata": {},
   "source": [
    "# TCP transport in coarse sand aquifer with Freundlich sorption"
   ]
  },
  {
   "cell_type": "code",
   "execution_count": 2,
   "metadata": {},
   "outputs": [
    {
     "name": "stdout",
     "output_type": "stream",
     "text": [
      "flopy is installed in /Applications/anaconda3/envs/fipy/lib/python3.7/site-packages/flopy\n",
      "3.7.5 (default, Oct 25 2019, 10:52:18) \n",
      "[Clang 4.0.1 (tags/RELEASE_401/final)]\n",
      "numpy version: 1.18.1\n",
      "matplotlib version: 3.1.3\n",
      "flopy version: 3.3.0\n"
     ]
    }
   ],
   "source": [
    "import sys\n",
    "import os\n",
    "import numpy as np\n",
    "import matplotlib as mpl\n",
    "import pickle as pk\n",
    "import matplotlib.pyplot as plt\n",
    "import flopy.utils.binaryfile as bf\n",
    "import shutil\n",
    "import time\n",
    "%matplotlib inline\n",
    "from IPython.display import clear_output\n",
    "from time import sleep\n",
    "\n",
    "# run installed version of flopy or add local path\n",
    "try:\n",
    "    import flopy\n",
    "except:\n",
    "    fpth = os.path.abspath(os.path.join('..', '..'))\n",
    "    sys.path.append(fpth)\n",
    "    import flopy\n",
    "    \n",
    "from flopy.utils.util_array import read1d\n",
    "\n",
    "mpl.rcParams['figure.figsize'] = (8, 8)\n",
    "\n",
    "exe_name_mf = '/Users/zitongzhou/Downloads/pymake/examples/mf2005'\n",
    "exe_name_mt = '/Users/zitongzhou/Downloads/pymake/examples/mt3dms'\n",
    "datadir = os.path.join('..', 'mt3d_test', 'mt3dms')\n",
    "workdir = os.path.join('.',)\n",
    "    \n",
    "print(sys.version)\n",
    "print('numpy version: {}'.format(np.__version__))\n",
    "print('matplotlib version: {}'.format(mpl.__version__))\n",
    "print('flopy version: {}'.format(flopy.__version__))"
   ]
  },
  {
   "cell_type": "markdown",
   "metadata": {},
   "source": [
    "## 2d MODFLOW model\n",
    "head gradient $\\nabla h$= 0.0012, \n",
    "\n",
    "hydraulic conductivity K_mean = 33.528 m/day, K ~ gaussian, var=1, len_scale=[5.0, 15.0]\n"
   ]
  },
  {
   "cell_type": "code",
   "execution_count": 3,
   "metadata": {},
   "outputs": [],
   "source": [
    "## observation points\n",
    "np.random.seed(888)\n",
    "y_obs = np.random.randint(low = 5, high = 35, size = 20)\n",
    "x_obs = np.random.randint(low = 30, high = 80, size = 20)\n",
    "obs = [[0, y_obs[i], x_obs[i]] for i in range(len(y_obs))]"
   ]
  },
  {
   "cell_type": "code",
   "execution_count": 4,
   "metadata": {},
   "outputs": [
    {
     "data": {
      "text/plain": [
       "[[0, 31, 49],\n",
       " [0, 18, 56],\n",
       " [0, 20, 48],\n",
       " [0, 27, 76],\n",
       " [0, 24, 60],\n",
       " [0, 12, 31],\n",
       " [0, 19, 69],\n",
       " [0, 30, 32],\n",
       " [0, 33, 38],\n",
       " [0, 18, 65],\n",
       " [0, 22, 74],\n",
       " [0, 21, 38],\n",
       " [0, 34, 55],\n",
       " [0, 17, 44],\n",
       " [0, 5, 66],\n",
       " [0, 30, 59],\n",
       " [0, 8, 52],\n",
       " [0, 21, 60],\n",
       " [0, 11, 40],\n",
       " [0, 31, 40]]"
      ]
     },
     "execution_count": 4,
     "metadata": {},
     "output_type": "execute_result"
    }
   ],
   "source": [
    "obs"
   ]
  },
  {
   "cell_type": "code",
   "execution_count": 2,
   "metadata": {},
   "outputs": [
    {
     "data": {
      "image/png": "[encoded data removed]",
      "text/plain": [
       "<Figure size 576x576 with 2 Axes>"
      ]
     },
     "metadata": {
      "needs_background": "light"
     },
     "output_type": "display_data"
    }
   ],
   "source": [
    "import gstools as gs\n",
    "import matplotlib.pyplot as plt\n",
    "x = range(41)\n",
    "y = range(81)\n",
    "np.random.seed(888)\n",
    "model = gs.Gaussian(dim=2, var=70, len_scale=[4.5, 12.0])\n",
    "srf = gs.SRF(model, mean = 33.528, seed=888)\n",
    "out = srf((x, y), mesh_type='structured')\n",
    "\n",
    "fig, axs = plt.subplots(1,1)\n",
    "c01map = axs.imshow(out, interpolation='none')\n",
    "fig.colorbar(c01map, ax=axs,shrink=0.62)\n",
    "title = 'hydraulic conductivity'\n",
    "name = title + '.pdf'\n",
    "plt.title(title)\n",
    "fig.savefig(name, format='pdf',bbox_inches='tight')\n",
    "\n",
    "with open('hk','wb') as file:\n",
    "     pk.dump(out, file)"
   ]
  },
  {
   "cell_type": "code",
   "execution_count": 3,
   "metadata": {},
   "outputs": [],
   "source": [
    "with open('hk', 'rb') as file:\n",
    "    hk = pk.load(file)"
   ]
  },
  {
   "cell_type": "code",
   "execution_count": 4,
   "metadata": {},
   "outputs": [],
   "source": [
    "def simple_plot(c_map, title):\n",
    "    nx = 81\n",
    "    ny = 41\n",
    "    Lx = 2500\n",
    "    Ly = 1250\n",
    "\n",
    "    x = np.linspace(0, Lx, nx)\n",
    "    y = np.linspace(0, Ly, ny)\n",
    "    X,Y = np.meshgrid(x, y)\n",
    "    fig, axs = plt.subplots(1,1)\n",
    "#        axs.set_xlabel('x(m)')\n",
    "#        axs.set_ylabel('y(m)')\n",
    "    axs.set_xlim(0,Lx)\n",
    "    axs.set_ylim(0,Ly)\n",
    "    c01map = axs.imshow(c_map, cmap='jet',\n",
    "              extent=[x.min(), x.max(), y.min(), y.max()],\n",
    "              vmin=c_map.min(), vmax = c_map.max(),\n",
    "              origin='lower')\n",
    "#        CS = axs.contour(head, levels = np.arange(0, 10.5, 0.5), origin='lower', cmap='flag',\n",
    "#                linewidths=2, extent=[x.min(), x.max(), y.min(), y.max()],)\n",
    "#        fig.colorbar(c01map, ax=axs,shrink=0.62)\n",
    "    name = title + '.pdf'\n",
    "    plt.title(title)\n",
    "    fig.savefig('images/'+name, format='pdf',bbox_inches='tight')\n",
    "    plt.show()\n",
    "    return"
   ]
  },
  {
   "cell_type": "code",
   "execution_count": 43,
   "metadata": {},
   "outputs": [],
   "source": [
    "from scipy.io import loadmat\n",
    "annots = loadmat(\"/Volumes/GoogleDrive/My Drive/inverse_modeling/reactive_transport/kd.mat\")\n",
    "annots.keys()\n",
    "\n",
    "kle = annots['kle_terms']\n",
    "K = annots['K']"
   ]
  },
  {
   "cell_type": "code",
   "execution_count": 295,
   "metadata": {
    "scrolled": true
   },
   "outputs": [],
   "source": [
    "def run_model(dirname, hk, welspd, c_spd):\n",
    "    if os.path.isdir(dirname):\n",
    "        shutil.rmtree(dirname, ignore_errors=True)\n",
    "        \n",
    "#     with open('hk', 'rb') as file:\n",
    "#         hk = pk.load(file)\n",
    "        \n",
    "    mixelm = -1 # algorithm\n",
    "    \n",
    "    model_ws = os.path.join(workdir, dirname)\n",
    "    Lx = 2500.\n",
    "    Ly = 1250.\n",
    "    ztop = 0.\n",
    "    zbot = -50.\n",
    "    nlay = 1\n",
    "    nrow = 41\n",
    "    ncol = 81\n",
    "    delr = Lx / (ncol-1)  # spacings along a row, can be an array\n",
    "    delc = Ly / (nrow-1)  # spacings along a column, can be an array\n",
    "#        delv = (ztop - zbot) / nlay\n",
    "    delv = 50\n",
    "    prsity = 0.3\n",
    "    \n",
    "    q0 = 100.\n",
    "    c0 = 10000.\n",
    "    \n",
    "    perlen_mf = [365*2]*10 + [365/2]*40\n",
    "    perlen_mt = [365*2]*10 + [365/2]*40\n",
    "#     nper = len(perlen_mf)\n",
    "    laytyp = 0. \n",
    "    rhob = 1.587 #bulk density of porous media\n",
    "    \n",
    "    modelname_mf = dirname + '_mf'\n",
    "    mf = flopy.modflow.Modflow(modelname=modelname_mf, model_ws=model_ws, exe_name=exe_name_mf)\n",
    "    dis = flopy.modflow.ModflowDis(mf, nlay=nlay, nrow=nrow, ncol=ncol,\n",
    "                                   delr=delr, delc=delc, top=ztop, botm=[0 - delv],nper=len(perlen_mf),\n",
    "                                   perlen=perlen_mf)\n",
    "    # Variables for the BAS package\n",
    "    # active > 0, inactive = 0, or constant head < 0\n",
    "    ibound = np.ones((nlay, nrow, ncol), dtype=np.int32)\n",
    "    ibound[:, :, 0] = -1\n",
    "    ibound[:, :, -1] = -1\n",
    "\n",
    "    # initial head value also serves as boundary conditions\n",
    "    strt = np.ones((nlay, nrow, ncol), dtype=np.float32)\n",
    "    h_grad = 0.0012\n",
    "    l_head, r_head = h_grad*Lx, 0.\n",
    "    strt[:, :, 0] = l_head\n",
    "    strt[:, :, -1] = r_head\n",
    "    \n",
    "    bas = flopy.modflow.ModflowBas(mf, ibound=ibound, strt=strt)\n",
    "    lpf = flopy.modflow.ModflowLpf(mf, hk=hk, laytyp=laytyp)\n",
    "    pcg = flopy.modflow.ModflowPcg(mf)\n",
    "    lmt = flopy.modflow.ModflowLmt(mf, output_file_name='mt3d_link.ftl')\n",
    "\n",
    "    wel = flopy.modflow.ModflowWel(mf, stress_period_data=welspd)\n",
    "    \n",
    "#     spd = {(0, 0): ['print head', 'print budget', 'save head', 'save budget']}\n",
    "    spd = {(0, 0): ['save head', 'save budget']}\n",
    "#     oc = flopy.modflow.ModflowOc(mf, stress_period_data=spd, compact=True)\n",
    "    oc = flopy.modflow.ModflowOc(mf,compact=True)\n",
    "    mf.write_input()\n",
    "    mf.run_model(silent = True)\n",
    "\n",
    "    \n",
    "#     hds = bf.HeadFile(os.path.join(model_ws, dirname + '_mf.hds'))\n",
    "#     times = hds.get_times()  # simulation time, steady state\n",
    "#     heads = hds.get_data(totim=times[-1])\n",
    "#     hds.close()  # close the file object for the next run\n",
    "    \n",
    "#     head = heads[0]\n",
    "#     head = np.flip(head, 0)\n",
    "#     simple_plot(head, 'head')\n",
    "    \n",
    "    \n",
    "    modelname_mt = dirname + '_mt'\n",
    "    mt = flopy.mt3d.Mt3dms(modelname=modelname_mt, model_ws=model_ws, \n",
    "                           exe_name=exe_name_mt, modflowmodel=mf, ftlfilename='mt3d_link.ftl')\n",
    "    \n",
    "    obs =   [[0, 31, 49],\n",
    "            [0, 18, 56],\n",
    "            [0, 20, 48],\n",
    "            [0, 27, 76],\n",
    "            [0, 24, 60],\n",
    "            [0, 12, 31],\n",
    "            [0, 19, 69],\n",
    "            [0, 30, 32],\n",
    "            [0, 33, 38],\n",
    "            [0, 18, 65],\n",
    "            [0, 22, 74],\n",
    "            [0, 21, 38],\n",
    "            [0, 34, 55],\n",
    "            [0, 17, 44],\n",
    "            [0, 5, 66],\n",
    "            [0, 30, 59],\n",
    "            [0, 8, 52],\n",
    "            [0, 21, 60],\n",
    "            [0, 11, 40],\n",
    "            [0, 31, 40]]\n",
    "    btn = flopy.mt3d.Mt3dBtn(mt, icbund=1, prsity=prsity, sconc=0.,\n",
    "                             nper=len(perlen_mt), perlen=perlen_mt, nprs = -1, obs=obs)\n",
    "    dceps = 1.e-5 # small Relative Cell Concentration Gradient below which advective transport is considered\n",
    "    nplane = 1 #whether the random or fixed pattern is selected for initial placement of moving particles. If NPLANE = 0, the random pattern is selected for initial placement.\n",
    "    npl = 0 #number of initial particles per cell to be placed at cells where the Relative Cell Concentration Gradient is less than or equal to DCEPS.\n",
    "    nph = 16 #number of initial particles per cell to be placed at cells where the Relative Cell Concentration Gradient is greater than DCEPS. \n",
    "    npmin = 2\n",
    "    npmax = 32\n",
    "    nlsink = nplane #for sink cells\n",
    "    npsink = nph\n",
    "\n",
    "    adv = flopy.mt3d.Mt3dAdv(mt, mixelm=mixelm, dceps=dceps, nplane=nplane, \n",
    "                             npl=npl, nph=nph, npmin=npmin, npmax=npmax,\n",
    "                             nlsink=nlsink, npsink=npsink, percel=0.5)\n",
    "    \n",
    "    al = 35.\n",
    "    trpt = 0.3\n",
    "    dsp = flopy.mt3d.Mt3dDsp(mt, al=al, trpt=trpt, dmcoef=1.e-9)#dmcoef: molecular diffusion\n",
    "    lambda1 = 0.\n",
    "    rct = flopy.mt3d.Mt3dRct(mt, isothm=2, ireact=1, igetsc=0, rhob=rhob, sp1=0.1,sp2 = 0.9, \n",
    "                         rc1=lambda1, rc2=lambda1)\n",
    "\n",
    "\n",
    "    ssm = flopy.mt3d.Mt3dSsm(mt, stress_period_data=c_spd)\n",
    "    gcg = flopy.mt3d.Mt3dGcg(mt)\n",
    "    # write mt3dms input\n",
    "    while True:\n",
    "        try:\n",
    "            mt.write_input()\n",
    "        except OSError as err:\n",
    "            print(\"mt File writing error: %s\" % (err))\n",
    "        else:  # if we succeed, get out of the loop\n",
    "            break\n",
    "            \n",
    "    fname = os.path.join(model_ws, 'MT3D001.UCN')\n",
    "    if os.path.isfile(fname):\n",
    "        os.remove(fname)\n",
    "        \n",
    "    mt.run_model(silent=True)\n",
    "    \n",
    "#     fname = os.path.join(model_ws, 'MT3D001.UCN')\n",
    "#     ucnobj = flopy.utils.UcnFile(fname)\n",
    "#     times = ucnobj.get_times()\n",
    "#     conc = ucnobj.get_alldata()\n",
    "    \n",
    "    fname = os.path.join(model_ws, 'MT3D001.OBS')\n",
    "    if os.path.isfile(fname):\n",
    "        cvt = mt.load_obs(fname)\n",
    "    else:\n",
    "        cvt = None\n",
    "\n",
    "\n",
    "    return cvt "
   ]
  },
  {
   "cell_type": "code",
   "execution_count": 224,
   "metadata": {},
   "outputs": [
    {
     "data": {
      "text/plain": [
       "[730.0]"
      ]
     },
     "execution_count": 224,
     "metadata": {},
     "output_type": "execute_result"
    }
   ],
   "source": [
    "model_ws = os.path.join(workdir, dirname)\n",
    "dirname = 'binary_files'\n",
    "hds = bf.HeadFile(os.path.join(model_ws, dirname + '_mf.hds'))\n",
    "times = hds.get_times()  # simulation time, steady state\n",
    "# heads = hds.get_data(totim=times)\n",
    "hds.close()  # close the file object for the next run\n",
    "\n",
    "times"
   ]
  },
  {
   "cell_type": "code",
   "execution_count": null,
   "metadata": {},
   "outputs": [],
   "source": [
    "head"
   ]
  },
  {
   "cell_type": "code",
   "execution_count": 219,
   "metadata": {},
   "outputs": [],
   "source": [
    "from smt.sampling_methods import LHS\n",
    "N = 1500\n",
    "local_state = np.random.RandomState(seed = None)\n",
    "x = np.zeros((2, N)) #the location of the peaks\n",
    "\n",
    "### x\n",
    "xlimits = np.array([[8, 32.], [0., 20.]])\n",
    "sampling = LHS(xlimits=xlimits)\n",
    "\n",
    "num = N\n",
    "x = sampling(num)\n",
    "\n",
    "### q\n",
    "qlimits = np.array([[0, 1000.], [0., 1000], [0., 1000], [0., 1000], [0., 1000], [0., 1000],[0., 1000],[0., 1000],[0., 1000], [0., 1000]])\n",
    "sampling = LHS(xlimits=qlimits)\n",
    "\n",
    "q = sampling(num)\n",
    "\n",
    "### make well stress period data:\n",
    "for mod in range(12):\n",
    "    welspd = {}\n",
    "    for i in range(10):\n",
    "        welspd[i] = [0, x[mod, 0], x[mod,1], q[mod, i]]\n",
    "    welspd[10] = [0, x[mod, 0], x[mod,1], 0]\n",
    "    \n",
    "    spd = {}\n",
    "    for i in range(10):\n",
    "        spd[i] = [0, x[mod, 0], x[mod,1], 10000., 2]\n",
    "        \n",
    "    spd[10] = [0, x[mod, 0], x[mod,1], 0., 2]\n"
   ]
  },
  {
   "cell_type": "code",
   "execution_count": 347,
   "metadata": {},
   "outputs": [
    {
     "name": "stdout",
     "output_type": "stream",
     "text": [
      "0.0092926025390625\n"
     ]
    },
    {
     "data": {
      "text/plain": [
       "50"
      ]
     },
     "execution_count": 347,
     "metadata": {},
     "output_type": "execute_result"
    }
   ],
   "source": [
    "\n",
    "\n",
    "def take_meas(cvt):\n",
    "    obs =   [[0, 31, 39],\n",
    "             [0, 18, 46],\n",
    "             [0, 20, 38],\n",
    "             [0, 27, 66],\n",
    "             [0, 24, 50],\n",
    "             [0, 12, 21],\n",
    "             [0, 19, 59],\n",
    "             [0, 30, 22],\n",
    "             [0, 33, 28],\n",
    "             [0, 18, 55],\n",
    "             [0, 22, 64],\n",
    "             [0, 21, 28],\n",
    "             [0, 34, 45],\n",
    "             [0, 17, 34],\n",
    "             [0, 5, 56],\n",
    "             [0, 30, 49],\n",
    "             [0, 8, 42],\n",
    "             [0, 21, 50],\n",
    "             [0, 11, 30],\n",
    "             [0, 31, 30]]\n",
    "\n",
    "    obs = [[obs[i][j]+1 for j in range(3)] for i in range(len(obs))]\n",
    "\n",
    "    year = np.arange(2*365, 21*365, 2*365).tolist() + np.arange(20.5*365, 40*365+1, 365/2).tolist()\n",
    "    def closest(lst, K): \n",
    "        lst = np.asarray(lst) \n",
    "        idx = (np.abs(lst - K)).argmin() \n",
    "        return idx\n",
    "    inds = [closest(cvt['time'], year[i]) for i in range(len(year))]\n",
    "    meas = [cvt[str(tuple(obs[i]))][inds] for i in range(len(obs))]\n",
    "    return meas\n",
    "\n",
    "s = time.time()\n",
    "for i in range(10):\n",
    "    meas = take_meas(cvt)\n",
    "print(time.time() - s)\n",
    "len(meas[2])"
   ]
  },
  {
   "cell_type": "code",
   "execution_count": 327,
   "metadata": {},
   "outputs": [],
   "source": [
    "0.0026159286499023438\n",
    "0.008506059646606445"
   ]
  },
  {
   "cell_type": "code",
   "execution_count": 296,
   "metadata": {},
   "outputs": [
    {
     "data": {
      "image/png": "[encoded data removed]",
      "text/plain": [
       "<Figure size 576x576 with 1 Axes>"
      ]
     },
     "metadata": {
      "needs_background": "light"
     },
     "output_type": "display_data"
    }
   ],
   "source": [
    "cvt = p03('binary_files', np.transpose(np.reshape(K[:,3], (81, 41))), welspd, spd)\n",
    "\n",
    "dirname = 'binary_files'\n",
    "model_ws = os.path.join(workdir, dirname)\n",
    "fname = os.path.join(model_ws, 'MT3D001.UCN')\n",
    "ucnobj = flopy.utils.UcnFile(fname)\n",
    "times = ucnobj.get_times()\n",
    "\n",
    "year = np.arange(2, 41)*365\n",
    "\n",
    "def closest(lst, K): \n",
    "    lst = np.asarray(lst) \n",
    "    idx = (np.abs(lst - K)).argmin() \n",
    "    return lst[idx]\n",
    "\n",
    "time = [closest(times, year[i]) for i in range(len(year))]\n",
    "nx = 81\n",
    "ny = 41\n",
    "Lx = 2000\n",
    "Ly = 1000\n",
    "\n",
    "x = np.linspace(0, Lx, nx)\n",
    "y = np.linspace(0, Ly, ny)\n",
    "X,Y = np.meshgrid(x, y)\n",
    "\n",
    "fig, axs = plt.subplots()\n",
    "#        axs.set_xlabel('x(m)')\n",
    "#        axs.set_ylabel('y(m)')\n",
    "axs.set_xlim(0,Lx)\n",
    "axs.set_ylim(0,Ly)\n",
    "\n",
    "for i in range(len(year)):\n",
    "    c_map = ucnobj.get_data(totim=time[i])[0,]\n",
    "    plt.imshow(c_map, cmap='jet',\n",
    "          extent=[x.min(), x.max(), y.min(), y.max()],\n",
    "          vmin=c_map.min(), vmax = c_map.max(),\n",
    "          origin='lower')\n",
    "    plt.title(\"year {}\".format(i))\n",
    "    plt.show()\n",
    "    # Note that using time.sleep does *not* work here!\n",
    "    sleep(0.1)\n",
    "    clear_output(wait=True)"
   ]
  },
  {
   "cell_type": "code",
   "execution_count": 316,
   "metadata": {},
   "outputs": [],
   "source": [
    "obs = [[obs[i][j]+1 for j in range(3)] for i in range(len(obs))]"
   ]
  },
  {
   "cell_type": "code",
   "execution_count": 317,
   "metadata": {
    "scrolled": true
   },
   "outputs": [
    {
     "data": {
      "text/plain": [
       "[[1, 32, 40],\n",
       " [1, 19, 47],\n",
       " [1, 21, 39],\n",
       " [1, 28, 67],\n",
       " [1, 25, 51],\n",
       " [1, 13, 22],\n",
       " [1, 20, 60],\n",
       " [1, 31, 23],\n",
       " [1, 34, 29],\n",
       " [1, 19, 56],\n",
       " [1, 23, 65],\n",
       " [1, 22, 29],\n",
       " [1, 35, 46],\n",
       " [1, 18, 35],\n",
       " [1, 6, 57],\n",
       " [1, 31, 50],\n",
       " [1, 9, 43],\n",
       " [1, 22, 51],\n",
       " [1, 12, 31],\n",
       " [1, 32, 31]]"
      ]
     },
     "execution_count": 317,
     "metadata": {},
     "output_type": "execute_result"
    }
   ],
   "source": [
    "obs"
   ]
  },
  {
   "cell_type": "code",
   "execution_count": 306,
   "metadata": {},
   "outputs": [
    {
     "data": {
      "text/plain": [
       "14417.5"
      ]
     },
     "execution_count": 306,
     "metadata": {},
     "output_type": "execute_result"
    }
   ],
   "source": [
    "times[inds[-2]]"
   ]
  }
 ],
 "metadata": {
  "kernelspec": {
   "display_name": "Python 3",
   "language": "python",
   "name": "python3"
  },
  "language_info": {
   "codemirror_mode": {
    "name": "ipython",
    "version": 3
   },
   "file_extension": ".py",
   "mimetype": "text/x-python",
   "name": "python",
   "nbconvert_exporter": "python",
   "pygments_lexer": "ipython3",
   "version": "3.7.5"
  }
 },
 "nbformat": 4,
 "nbformat_minor": 4
}
