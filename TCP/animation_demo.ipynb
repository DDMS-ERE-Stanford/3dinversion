{
 "cells": [
  {
   "cell_type": "code",
   "execution_count": null,
   "metadata": {},
   "outputs": [],
   "source": [
    "%matplotlib inline"
   ]
  },
  {
   "cell_type": "markdown",
   "metadata": {},
   "source": [
    "\n",
    "# pyplot animation\n",
    "\n",
    "\n",
    "Generating an animation by calling `~.pyplot.pause` between plotting commands.\n",
    "\n",
    "The method shown here is only suitable for simple, low-performance use.  For\n",
    "more demanding applications, look at the :mod:`animation` module and the\n",
    "examples that use it.\n",
    "\n",
    "Note that calling `time.sleep` instead of `~.pyplot.pause` would *not* work.\n",
    "\n"
   ]
  },
  {
   "cell_type": "code",
   "execution_count": null,
   "metadata": {},
   "outputs": [],
   "source": [
    "import matplotlib.pyplot as plt\n",
    "import numpy as np\n",
    "\n",
    "np.random.seed(19680801)\n",
    "data = np.random.random((50, 50, 50))\n",
    "\n",
    "fig, ax = plt.subplots()\n",
    "\n",
    "for i in range(len(data)):\n",
    "    ax.cla()\n",
    "    ax.imshow(data[i])\n",
    "    ax.set_title(\"frame {}\".format(i))\n",
    "    # Note that using time.sleep does *not* work here!\n",
    "    plt.pause(0.1)"
   ]
  }
 ],
 "metadata": {
  "kernelspec": {
   "display_name": "Python 3",
   "language": "python",
   "name": "python3"
  },
  "language_info": {
   "codemirror_mode": {
    "name": "ipython",
    "version": 3
   },
   "file_extension": ".py",
   "mimetype": "text/x-python",
   "name": "python",
   "nbconvert_exporter": "python",
   "pygments_lexer": "ipython3",
   "version": "3.7.5"
  }
 },
 "nbformat": 4,
 "nbformat_minor": 1
}
