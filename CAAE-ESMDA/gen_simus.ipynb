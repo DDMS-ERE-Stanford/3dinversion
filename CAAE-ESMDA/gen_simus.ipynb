{
 "cells": [
  {
   "cell_type": "code",
   "execution_count": 3,
   "id": "144f6ff4",
   "metadata": {},
   "outputs": [
    {
     "name": "stdout",
     "output_type": "stream",
     "text": [
      "3.8.2 (default, Mar 25 2020, 11:22:43) \n",
      "[Clang 4.0.1 (tags/RELEASE_401/final)]\n",
      "numpy version: 1.19.2\n",
      "matplotlib version: 3.3.1\n",
      "flopy version: 3.3.2\n"
     ]
    }
   ],
   "source": [
    "from scipy.io import loadmat\n",
    "import matplotlib.pyplot as plt\n",
    "import numpy as np\n",
    "import time\n",
    "import pickle as pk\n",
    "from smt.sampling_methods import LHS\n",
    "from multiprocessing import Pool\n",
    "import multiprocessing\n",
    "# from my_model import mymf\n",
    "import sys\n",
    "import os\n",
    "import numpy as np\n",
    "import matplotlib as mpl\n",
    "import matplotlib.patches as mpatches\n",
    "from matplotlib.collections import PatchCollection\n",
    "from matplotlib import cm\n",
    "import matplotlib.colors\n",
    "import pickle as pk\n",
    "import matplotlib.pyplot as plt\n",
    "import mpl_toolkits.mplot3d.art3d as art3d\n",
    "import flopy.utils.binaryfile as bf\n",
    "import shutil\n",
    "from IPython.display import clear_output\n",
    "from time import sleep\n",
    "import h5py\n",
    "# run installed version of flopy or add local path\n",
    "try:\n",
    "    import flopy\n",
    "except:\n",
    "    fpth = os.path.abspath(os.path.join('..', '..'))\n",
    "    sys.path.append(fpth)\n",
    "    import flopy\n",
    "from flopy.utils.util_array import read1d\n",
    "mpl.rcParams['figure.figsize'] = (8, 8)\n",
    "from TCP3d_model import mymf\n",
    "from para_simu import simu\n",
    "print(sys.version)\n",
    "print('numpy version: {}'.format(np.__version__))\n",
    "print('matplotlib version: {}'.format(mpl.__version__))\n",
    "print('flopy version: {}'.format(flopy.__version__))\n",
    "exe_name_mf = '/Users/zitongzhou/Downloads/pymake/examples/mf2005'\n",
    "exe_name_mt = '/Users/zitongzhou/Downloads/pymake/examples/mt3dms'\n",
    "SMALL_SIZE = 12\n",
    "MEDIUM_SIZE = 14\n",
    "BIGGER_SIZE = 16\n",
    "plt.rc('font',**{'family':'serif','serif':['Times']})\n",
    "plt.rcParams['text.usetex'] = True\n",
    "plt.rc('font', size=SMALL_SIZE)          # controls default text sizes\n",
    "plt.rc('axes', titlesize=SMALL_SIZE)     # fontsize of the axes title\n",
    "plt.rc('axes', labelsize=SMALL_SIZE)    # fontsize of the x and y labels\n",
    "plt.rc('xtick', labelsize=SMALL_SIZE)    # fontsize of the tick labels\n",
    "plt.rc('ytick', labelsize=SMALL_SIZE)    # fontsize of the tick labels\n",
    "plt.rc('legend', fontsize=SMALL_SIZE)    # legend fontsize\n",
    "plt.rc('figure', titlesize=BIGGER_SIZE)"
   ]
  },
  {
   "cell_type": "code",
   "execution_count": 2,
   "id": "cee59d6f",
   "metadata": {},
   "outputs": [
    {
     "name": "stdout",
     "output_type": "stream",
     "text": [
      "3.2.1\n"
     ]
    }
   ],
   "source": [
    "print(h5py.__version__)"
   ]
  },
  {
   "cell_type": "code",
   "execution_count": 3,
   "id": "dba877c4",
   "metadata": {},
   "outputs": [
    {
     "data": {
      "text/plain": [
       "'/Users/zitongzhou/Desktop/react_inverse/TCP_3d'"
      ]
     },
     "execution_count": 3,
     "metadata": {},
     "output_type": "execute_result"
    }
   ],
   "source": [
    "os.getcwd()"
   ]
  },
  {
   "cell_type": "code",
   "execution_count": null,
   "id": "faa33acc",
   "metadata": {
    "scrolled": true
   },
   "outputs": [],
   "source": [
    "if __name__ == '__main__':\n",
    "    exe_name_mf = '/Users/zitongzhou/Downloads/pymake/examples/mf2005'\n",
    "    exe_name_mt = '/Users/zitongzhou/Downloads/pymake/examples/mt3dms'\n",
    "    os.chdir('/Volumes/GoogleDrive/My Drive/react_inverse/simu_inputs/')\n",
    "    for i in range(5):\n",
    "        start = time.time()\n",
    "        filename = 'input_'+str(i)+'.hdf5'\n",
    "        conc, heads = simu(filename)\n",
    "        print(time.time() - start)"
   ]
  },
  {
   "cell_type": "code",
   "execution_count": 6,
   "id": "60408811",
   "metadata": {
    "scrolled": true
   },
   "outputs": [],
   "source": [
    "def well_plot(c_map, title, wel, obs1, obs2, ):\n",
    "    nx = 81\n",
    "    ny = 41\n",
    "    Lx = 2500\n",
    "    Ly = 1250\n",
    "    dx = Lx/(nx-1)\n",
    "    dy = Ly/(ny-1)\n",
    "\n",
    "\n",
    "    x = np.linspace(0, Lx, nx)\n",
    "    y = np.linspace(0, Ly, ny)\n",
    "    X,Y = np.meshgrid(x, y)\n",
    "    fig, axs = plt.subplots(1,1, sharey='row',figsize=(7.5,5))\n",
    "\n",
    "    axs.set_xlabel('x[m]')\n",
    "    axs.set_ylabel('y[m]')\n",
    "    axs.set_xlim(0,Lx)\n",
    "    axs.set_ylim(0,Ly)\n",
    "    c01map = axs.imshow(c_map, cmap='jet',\n",
    "              extent=[x.min(), x.max(), y.min(), y.max()],\n",
    "              vmin=c_map.min(), vmax = c_map.max(),\n",
    "              origin='lower')\n",
    "    pc = axs.add_patch(mpatches.Rectangle((wel['x'][0], wel['y'][0]), wel['x'][1]-wel['x'][0], wel['y'][1]-wel['y'][0], facecolor='None', \n",
    "                             edgecolor='b',label='release area'))\n",
    "    axs.scatter(obs1[\"x\"], obs1[\"y\"], c = 'red', edgecolors='b',label = 'sensor')\n",
    "    fig.colorbar(c01map, ax=axs,shrink=0.6)\n",
    "    name = title + '.pdf'\n",
    "    plt.legend(bbox_to_anchor=(1.05, 1.0), loc='lower right')\n",
    "#     plt.tight_layout()\n",
    "    fig.savefig('/Users/zitongzhou/Desktop/react_inverse/images/'+name, format='pdf',bbox_inches='tight')\n",
    "    return\n",
    "\n",
    "def plot_3d(data, title='', cut=None, sca=None):\n",
    "    data = np.transpose(data, (2, 1, 0))\n",
    "    data = np.flip(data, axis=2)\n",
    "    filled = np.ones(data.shape)\n",
    "    if cut is not None:\n",
    "        filled[cut[2]:, :cut[1], (6-cut[0]):] = 0\n",
    "    x, y, z = np.indices(np.array(filled.shape) + 1)\n",
    "    \n",
    "    v1 = np.linspace(np.min(data),np.max(data), 8, endpoint=True)\n",
    "    norm = matplotlib.colors.Normalize(vmin=np.min(data), vmax=np.max(data))\n",
    "    \n",
    "    fig = plt.figure()\n",
    "    ax = plt.axes(projection='3d')\n",
    "    ax.voxels(x, y, z, filled, facecolors=plt.cm.jet(norm(data)), edgecolors=None)\n",
    "    ax.set_box_aspect([250, 125, 50])\n",
    "\n",
    "#     release = mpatches.Rectangle((4, 4), 100, 100, facecolor = 'b', alpha = .5)\n",
    "#     ax.add_patch(release)\n",
    "#     art3d.pathpatch_2d_to_3d(release, z=10, zdir='z')\n",
    "    \n",
    "#     ax.scatter(obs[\"x\"], obs[\"y\"], obs[\"z\"])\n",
    "    if sca:\n",
    "        ax.scatter(sca[2],sca[1],sca[0],marker='s',s=100,c='r')\n",
    "    m = cm.ScalarMappable(cmap=plt.cm.jet, norm=norm)\n",
    "    m.set_array([])\n",
    "    fig.colorbar(m, ax=ax, fraction=0.015, pad=0.04,ticks=v1,)\n",
    "    ax.set_axis_off()\n",
    "    plt.tight_layout()\n",
    "    # ax.set_title(title)\n",
    "#     fig.savefig(title+'.pdf')\n",
    "    return fig"
   ]
  },
  {
   "cell_type": "code",
   "execution_count": 14,
   "id": "3c76a234",
   "metadata": {},
   "outputs": [
    {
     "data": {
      "text/plain": [
       "(3, 12, 20)"
      ]
     },
     "execution_count": 14,
     "metadata": {},
     "output_type": "execute_result"
    }
   ],
   "source": [
    "np.unravel_index(np.argmax(conc[0], axis=None), conc[0].shape)"
   ]
  },
  {
   "cell_type": "code",
   "execution_count": 7,
   "id": "2cfbe467",
   "metadata": {
    "scrolled": true
   },
   "outputs": [
    {
     "data": {
      "image/png": "[encoded data removed]",
      "text/plain": [
       "<Figure size 540x360 with 2 Axes>"
      ]
     },
     "metadata": {
      "needs_background": "light"
     },
     "output_type": "display_data"
    }
   ],
   "source": [
    "### wells and sensors\n",
    "\n",
    "# y_wel = np.array([125, 125*3, 125*5, 125*7, 125*9,\n",
    "#         125, 125*3, 125*5, 125*7, 125*9,\n",
    "#         125, 125*3, 125*5, 125*7, 125*9,])\n",
    "#         125, 125*3, 125*5, 125*7, 125*9,]) # #np.random.randint(low = 5, high = 35, size = 20)\n",
    "# x_wel = np.array([100, 100, 100, 100, 100, \n",
    "#          300, 300, 300, 300, 300,\n",
    "#          500, 500, 500, 500, 500,])\n",
    "x_wel = [2500/80*4, 2500/80*19]\n",
    "y_wel = [1240/40*4, 1250/40*37]\n",
    "#          700, 700, 700, 700, 700])# #np.random.randint(low = 0, high = 25, size = 20)\n",
    "# wells = {i: [y_wel[i], x_wel[i]] for i in range(len(y_wel))}\n",
    "\n",
    "np.random.seed(888)\n",
    "# y_obs = np.random.randint(low = 5, high = 35, size = 20)\n",
    "# x_obs = np.random.randint(low = 30, high = 80, size = 20)\n",
    "y_obs = np.linspace(5, 35, num=4).astype('int')\n",
    "x_obs = np.linspace(20, 75, num=6).astype('int')\n",
    "# x_obs = np.linspace(31, 75, num=3).astype('int')\n",
    "y_obs, x_obs = np.meshgrid(y_obs, x_obs)\n",
    "\n",
    "f = h5py.File('/Users/zitongzhou/Desktop/react_inverse/TCP_3d/output_0.hdf5', 'r')\n",
    "head = np.array(f[\"head\"])[3]\n",
    "f.close()  # close the file object for the next run\n",
    "\n",
    "\n",
    "# head = np.flip(head, 0)\n",
    "dx = 2500/80\n",
    "dy = 1250/40\n",
    "wel = {'x': x_wel, 'y': y_wel}\n",
    "# wel = {\"x\": list(dx/2 + x_wel*dx), \"y\": list(dy/2 + y_wel*dy)}\n",
    "obs1 = {\"x\": list(dx/2 + x_obs*dx), \"y\": list(dy/2 + y_obs*dy)}\n",
    "\n",
    "y_obs = np.linspace(5, 35, num=4).astype('int')\n",
    "# x_obs = np.linspace(20, 75, num=6).astype('int')\n",
    "x_obs = np.linspace(31, 75, num=3).astype('int')\n",
    "z_obs = np.linspace(0,5,num=6).astype('int')\n",
    "z_obs, y_obs, x_obs = np.meshgrid(z_obs, y_obs, x_obs)\n",
    "obs_3d = {'x':x_obs,'y':y_obs,'z':z_obs}\n",
    "# wel = {\"x\": list(dx/2 + x_wel*dx), \"y\": list(dy/2 + y_wel*dy)}\n",
    "obs2 = {\"x\": list(dx/2 + x_obs*dx), \"y\": list(dy/2 + y_obs*dy)}\n",
    "\n",
    "well_plot(head, 'Head_well',wel, obs1, obs2)"
   ]
  },
  {
   "cell_type": "markdown",
   "id": "318346a6",
   "metadata": {},
   "source": [
    "## Parallel simulation"
   ]
  },
  {
   "cell_type": "code",
   "execution_count": 8,
   "id": "d166a4e1",
   "metadata": {},
   "outputs": [
    {
     "name": "stdout",
     "output_type": "stream",
     "text": [
      "5\n",
      "parallel sampling time: 9444.728926897049\n",
      "number of simulations: 1000\n"
     ]
    }
   ],
   "source": [
    "if __name__ == '__main__':\n",
    "#     for n_pool in range(1, multiprocessing.cpu_count()):\n",
    "    n_pool = 5\n",
    "    pool = Pool(n_pool)\n",
    "    cwd = '/Users/zitongzhou/Desktop/simu_inputs.tmp/'\n",
    "    filelist = os.listdir(cwd)\n",
    "    filelist = [file for file in filelist if file.endswith('.hdf5')]\n",
    "#     filelist = filelist[:5]\n",
    "    os.chdir(cwd)\n",
    "    start = time.time()\n",
    "    pool.map(simu, filelist)\n",
    "    print(n_pool)\n",
    "    print('parallel sampling time:',time.time() - start)\n",
    "    print('number of simulations:', len(filelist))"
   ]
  }
 ],
 "metadata": {
  "kernelspec": {
   "display_name": "Python 3",
   "language": "python",
   "name": "python3"
  },
  "language_info": {
   "codemirror_mode": {
    "name": "ipython",
    "version": 3
   },
   "file_extension": ".py",
   "mimetype": "text/x-python",
   "name": "python",
   "nbconvert_exporter": "python",
   "pygments_lexer": "ipython3",
   "version": "3.8.2"
  }
 },
 "nbformat": 4,
 "nbformat_minor": 5
}
