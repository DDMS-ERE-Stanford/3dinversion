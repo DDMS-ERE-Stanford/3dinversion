{
  "nbformat": 4,
  "nbformat_minor": 0,
  "metadata": {
    "colab": {
      "name": "make_inputs.ipynb",
      "provenance": [],
      "collapsed_sections": [
        "ri5OjGsVtvoo"
      ],
      "machine_shape": "hm",
      "authorship_tag": "ABX9TyN9Bxw6nO5VYmWy047GAXhc",
      "include_colab_link": true
    },
    "kernelspec": {
      "name": "python3",
      "display_name": "Python 3"
    }
  },
  "cells": [
    {
      "cell_type": "markdown",
      "metadata": {
        "id": "view-in-github",
        "colab_type": "text"
      },
      "source": [
        "<a href=\"https://colab.research.google.com/github/ZitongZhou/react_inverse/blob/master/make_inputs.ipynb\" target=\"_parent\"><img src=\"https://colab.research.google.com/assets/colab-badge.svg\" alt=\"Open In Colab\"/></a>"
      ]
    },
    {
      "cell_type": "code",
      "metadata": {
        "colab": {
          "base_uri": "https://localhost:8080/"
        },
        "id": "omRPru3b1nos",
        "outputId": "f2d8f942-3ad9-4ad0-a4d9-447b9eef9795"
      },
      "source": [
        "import numpy as np\n",
        "import pickle as pk\n",
        "import os\n",
        "import time\n",
        "from google.colab import drive\n",
        "from google.colab import files\n",
        "import h5py\n",
        "import matplotlib.pyplot as plt\n",
        "drive.mount('/content/drive', force_remount=True)"
      ],
      "execution_count": 1,
      "outputs": [
        {
          "output_type": "stream",
          "text": [
            "Mounted at /content/drive\n"
          ],
          "name": "stdout"
        }
      ]
    },
    {
      "cell_type": "code",
      "metadata": {
        "id": "97BweKYZ1xz_"
      },
      "source": [
        "with open('/content/drive/MyDrive/react_inverse/training_data/kds.pkl', 'rb') as file:\n",
        "    kds = pk.load(file)"
      ],
      "execution_count": 2,
      "outputs": []
    },
    {
      "cell_type": "code",
      "metadata": {
        "id": "Yzk5wCpL2Rzw"
      },
      "source": [
        "assert len(kds[0])==6 and len(kds[0][0])==41 and len(kds[0][0][0])==81, \\\n",
        "    'size error, should be [6, 41, 81]'+str([len(kds[0]), len(kds[0][0]), len(kds[0][0][0])])"
      ],
      "execution_count": null,
      "outputs": []
    },
    {
      "cell_type": "code",
      "metadata": {
        "id": "h-42MEc3udQO"
      },
      "source": [
        "def simple_plot(c_map, title=''):\n",
        "    nx = 81\n",
        "    ny = 41\n",
        "    Lx = 2500\n",
        "    Ly = 1250\n",
        "\n",
        "    x = np.linspace(0, Lx, nx)\n",
        "    y = np.linspace(0, Ly, ny)\n",
        "    X,Y = np.meshgrid(x, y)\n",
        "    fig, axs = plt.subplots(1,1)\n",
        "#        axs.set_xlabel('x(m)')\n",
        "#        axs.set_ylabel('y(m)')\n",
        "    axs.set_xlim(0,Lx)\n",
        "    axs.set_ylim(0,Ly)\n",
        "    c01map = axs.imshow(c_map, cmap='jet',\n",
        "              extent=[x.min(), x.max(), y.min(), y.max()],\n",
        "              vmin=c_map.min(), vmax = c_map.max(),\n",
        "              origin='lower')\n",
        "    fig.colorbar(c01map, ax=axs,shrink=0.62)\n",
        "    name = title + '.pdf'\n",
        "    plt.title(title)\n",
        "#         fig.savefig('images/'+name, format='pdf',bbox_inches='tight')\n",
        "    plt.show()\n",
        "    return"
      ],
      "execution_count": null,
      "outputs": []
    },
    {
      "cell_type": "markdown",
      "metadata": {
        "id": "6WIW0PPxt1b9"
      },
      "source": [
        "## Read output files"
      ]
    },
    {
      "cell_type": "code",
      "metadata": {
        "id": "LgLyRPTct1ET"
      },
      "source": [
        ""
      ],
      "execution_count": null,
      "outputs": []
    },
    {
      "cell_type": "code",
      "metadata": {
        "id": "vB92Lt-MncE9"
      },
      "source": [
        "for i in range(5):\n",
        "  output_file = '/content/drive/MyDrive/react_inverse/simu_outputs/output_'+str(i)+'.hdf5'\n",
        "  f = h5py.File(output_file, \"r\")\n",
        "  conc = np.array(f['concentration'])\n",
        "  head = np.array(f['head'])\n",
        "  simple_plot(conc[-1][0], title='conc0')\n",
        "  simple_plot(conc[-1][1], title = 'conc1')\n",
        "  simple_plot(conc[-1][2], title = 'conc2')\n",
        "  simple_plot(conc[-1][3], title = 'conc3')\n",
        "  simple_plot(conc[-1][4], title = 'conc4')\n",
        "  simple_plot(conc[-1][5], title = 'conc5')\n",
        "  f.close()"
      ],
      "execution_count": null,
      "outputs": []
    },
    {
      "cell_type": "code",
      "metadata": {
        "colab": {
          "base_uri": "https://localhost:8080/"
        },
        "id": "A8k1bFrouCdF",
        "outputId": "c80815e7-d736-44ad-ac0b-f015863bdb8d"
      },
      "source": [
        "len(head)"
      ],
      "execution_count": null,
      "outputs": [
        {
          "output_type": "execute_result",
          "data": {
            "text/plain": [
              "41"
            ]
          },
          "metadata": {
            "tags": []
          },
          "execution_count": 22
        }
      ]
    },
    {
      "cell_type": "markdown",
      "metadata": {
        "id": "ri5OjGsVtvoo"
      },
      "source": [
        "## Make input files"
      ]
    },
    {
      "cell_type": "code",
      "metadata": {
        "id": "jOWmczJ5NpzG"
      },
      "source": [
        "N = 15000\n",
        "# local_state = np.random.RandomState(seed = None)\n",
        "\n",
        "### x\n",
        "np.random.seed(888)\n",
        "y_wel = np.array([6, 13, 20, 27, 34,\n",
        "        6, 13, 20, 27, 34,\n",
        "        6, 13, 20, 27, 34,\n",
        "        6, 13, 20, 27, 34])# #np.random.randint(low = 5, high = 35, size = 20)\n",
        "x_wel = np.array([1, 1, 1, 1, 1, \n",
        "         7, 7, 7, 7, 7,\n",
        "         13, 13, 13, 13, 13,\n",
        "         20, 20, 20, 20, 20])# #np.random.randint(low = 0, high = 25, size = 20)\n",
        "wells = {i: [y_wel[i], x_wel[i]] for i in range(len(y_wel))}\n",
        "\n",
        "x_ind = np.random.choice(20, N)\n",
        "\n",
        "x = [wells[x_ind[i]] for i in range(N)]\n",
        "\n",
        "### q\n",
        "q = 100*np.random.randint(low=1, high=15, size=(N, 5))\n",
        "\n",
        "### make well stress period data:\n",
        "con_rate = []\n",
        "for sim in range(N):\n",
        "    welspd = []\n",
        "    for i in range(5):\n",
        "        welspd.append([3, x[sim][0], x[sim][1], q[sim, i], 2])\n",
        "    welspd.append([3, x[sim][0], x[sim][1], 0, 2])\n",
        "    con_rate.append(welspd)\n",
        "con_rate = np.array(con_rate)"
      ],
      "execution_count": null,
      "outputs": []
    },
    {
      "cell_type": "code",
      "metadata": {
        "colab": {
          "base_uri": "https://localhost:8080/"
        },
        "id": "8DrncoyYR58K",
        "outputId": "f0e003df-2751-48f3-ff34-8d2857d09f79"
      },
      "source": [
        "con_rate[1996]"
      ],
      "execution_count": null,
      "outputs": [
        {
          "output_type": "execute_result",
          "data": {
            "text/plain": [
              "array([[   3,   27,   20, 1400,   -1],\n",
              "       [   3,   27,   20,  400,   -1],\n",
              "       [   3,   27,   20,  100,   -1],\n",
              "       [   3,   27,   20,  200,   -1],\n",
              "       [   3,   27,   20,  400,   -1],\n",
              "       [   3,   27,   20,    0,   -1]])"
            ]
          },
          "metadata": {
            "tags": []
          },
          "execution_count": 85
        }
      ]
    },
    {
      "cell_type": "code",
      "metadata": {
        "id": "fzr-usC7PTnK"
      },
      "source": [
        "N = 5000\n",
        "for ndata in range(N):\n",
        "    hf =  h5py.File('/content/drive/MyDrive/react_inverse/simu_inputs/input_{}.hdf5'.format(ndata), 'w')\n",
        "    hf.create_dataset('kd', data = kds[ndata], dtype ='f', compression = 'gzip')\n",
        "    hf.create_dataset('welspd', data = con_rate[ndata], dtype ='f', compression = 'gzip')\n",
        "    hf.close()"
      ],
      "execution_count": null,
      "outputs": []
    }
  ]
}