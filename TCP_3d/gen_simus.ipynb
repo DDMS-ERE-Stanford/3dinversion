{
 "cells": [
  {
   "cell_type": "code",
   "execution_count": 1,
   "id": "prescription-illustration",
   "metadata": {},
   "outputs": [
    {
     "name": "stdout",
     "output_type": "stream",
     "text": [
      "3.8.2 (default, Mar 25 2020, 11:22:43) \n",
      "[Clang 4.0.1 (tags/RELEASE_401/final)]\n",
      "numpy version: 1.19.2\n",
      "matplotlib version: 3.3.1\n",
      "flopy version: 3.3.2\n"
     ]
    }
   ],
   "source": [
    "from scipy.io import loadmat\n",
    "import matplotlib.pyplot as plt\n",
    "import numpy as np\n",
    "import time\n",
    "import pickle as pk\n",
    "from smt.sampling_methods import LHS\n",
    "from multiprocessing import Pool\n",
    "import multiprocessing\n",
    "# from my_model import mymf\n",
    "import sys\n",
    "import os\n",
    "import numpy as np\n",
    "import matplotlib as mpl\n",
    "import pickle as pk\n",
    "import matplotlib.pyplot as plt\n",
    "import flopy.utils.binaryfile as bf\n",
    "import shutil\n",
    "from IPython.display import clear_output\n",
    "from time import sleep\n",
    "import h5py\n",
    "# run installed version of flopy or add local path\n",
    "try:\n",
    "    import flopy\n",
    "except:\n",
    "    fpth = os.path.abspath(os.path.join('..', '..'))\n",
    "    sys.path.append(fpth)\n",
    "    import flopy\n",
    "from flopy.utils.util_array import read1d\n",
    "mpl.rcParams['figure.figsize'] = (8, 8)\n",
    "from TCP3d_model import mymf\n",
    "from para_simu import simu\n",
    "print(sys.version)\n",
    "print('numpy version: {}'.format(np.__version__))\n",
    "print('matplotlib version: {}'.format(mpl.__version__))\n",
    "print('flopy version: {}'.format(flopy.__version__))\n",
    "exe_name_mf = '/Users/zitongzhou/Downloads/pymake/examples/mf2005'\n",
    "exe_name_mt = '/Users/zitongzhou/Downloads/pymake/examples/mt3dms'\n",
    "# annots = loadmat(\"/Volumes/GoogleDrive/My Drive/inverse_modeling/reactive_transport/kd.mat\")\n",
    "# annots.keys()\n",
    "\n",
    "# kle = annots['kle_terms']\n",
    "# K = annots['K']"
   ]
  },
  {
   "cell_type": "code",
   "execution_count": 2,
   "id": "final-substitute",
   "metadata": {},
   "outputs": [
    {
     "data": {
      "text/plain": [
       "'/Users/zitongzhou/Desktop/react_inverse/TCP_3d'"
      ]
     },
     "execution_count": 2,
     "metadata": {},
     "output_type": "execute_result"
    }
   ],
   "source": [
    "os.getcwd()"
   ]
  },
  {
   "cell_type": "code",
   "execution_count": null,
   "id": "incorporated-freeware",
   "metadata": {},
   "outputs": [],
   "source": [
    "if __name__ == '__main__':\n",
    "    exe_name_mf = '/Users/zitongzhou/Downloads/pymake/examples/mf2005'\n",
    "    exe_name_mt = '/Users/zitongzhou/Downloads/pymake/examples/mt3dms'\n",
    "    os.chdir('/Volumes/GoogleDrive/My Drive/react_inverse/simu_inputs/')\n",
    "    for i in range(5):\n",
    "        start = time.time()\n",
    "        filename = 'input_'+str(i)+'.hdf5'\n",
    "        conc, heads = simu(filename)\n",
    "        print(time.time() - start)"
   ]
  },
  {
   "cell_type": "code",
   "execution_count": 19,
   "id": "conservative-benjamin",
   "metadata": {
    "scrolled": true
   },
   "outputs": [
    {
     "data": {
      "image/png": "[encoded data removed]",
      "text/plain": [
       "<Figure size 576x576 with 2 Axes>"
      ]
     },
     "metadata": {
      "needs_background": "light"
     },
     "output_type": "display_data"
    }
   ],
   "source": [
    "### wells and sensors\n",
    "y_wel = np.array([6, 13, 20, 27, 34,\n",
    "        6, 13, 20, 27, 34,\n",
    "        6, 13, 20, 27, 34,\n",
    "        6, 13, 20, 27, 34])# #np.random.randint(low = 5, high = 35, size = 20)\n",
    "x_wel = np.array([1, 1, 1, 1, 1, \n",
    "         7, 7, 7, 7, 7,\n",
    "         13, 13, 13, 13, 13,\n",
    "         20, 20, 20, 20, 20])# #np.random.randint(low = 0, high = 25, size = 20)\n",
    "wells = {i: [y_wel[i], x_wel[i]] for i in range(len(y_wel))}\n",
    "\n",
    "np.random.seed(888)\n",
    "y_obs = np.random.randint(low = 5, high = 35, size = 20)\n",
    "x_obs = np.random.randint(low = 30, high = 80, size = 20)\n",
    "f = h5py.File('/Volumes/Transcend/Desktop/reactive_inverse/simu_outputs/output_0.hdf5', 'r')\n",
    "head = np.array(f[\"head\"])[3]\n",
    "f.close()  # close the file object for the next run\n",
    "\n",
    "\n",
    "# head = np.flip(head, 0)\n",
    "dx = 2500/80\n",
    "dy = 1250/40\n",
    "\n",
    "wel = {\"x\": list(dx/2 + x_wel*dx), \"y\": list(dy/2 + y_wel*dy)}\n",
    "obs = {\"x\": list(dx/2 + x_obs*dx), \"y\": list(dy/2 + y_obs*dy)}\n",
    "well_plot(head, 'Head_well',wel, obs)"
   ]
  },
  {
   "cell_type": "code",
   "execution_count": 18,
   "id": "voluntary-soldier",
   "metadata": {
    "scrolled": true
   },
   "outputs": [],
   "source": [
    "def well_plot(c_map, title,  wel = None, obs = None, ):\n",
    "    nx = 81\n",
    "    ny = 41\n",
    "    Lx = 2500\n",
    "    Ly = 1250\n",
    "    dx = Lx/(nx-1)\n",
    "    dy = Ly/(ny-1)\n",
    "\n",
    "\n",
    "    x = np.linspace(0, Lx, nx)\n",
    "    y = np.linspace(0, Ly, ny)\n",
    "    X,Y = np.meshgrid(x, y)\n",
    "    fig, axs = plt.subplots(1,1)\n",
    "#        axs.set_xlabel('x(m)')\n",
    "#        axs.set_ylabel('y(m)')\n",
    "    axs.set_xlim(0,Lx)\n",
    "    axs.set_ylim(0,Ly)\n",
    "    c01map = axs.imshow(c_map, cmap='jet',\n",
    "              extent=[x.min(), x.max(), y.min(), y.max()],\n",
    "              vmin=c_map.min(), vmax = c_map.max(),\n",
    "              origin='lower')\n",
    "    if wel:\n",
    "\n",
    "        axs.scatter(wel[\"x\"], wel[\"y\"],  c = \"blue\", label='wells')\n",
    "    \n",
    "    if obs:\n",
    "        \n",
    "        axs.scatter(obs[\"x\"], obs[\"y\"], c = 'red', label = 'sensor')\n",
    "        \n",
    "#        CS = axs.contour(head, levels = np.arange(0, 10.5, 0.5), origin='lower', cmap='flag',\n",
    "#                linewidths=2, extent=[x.min(), x.max(), y.min(), y.max()],)\n",
    "    fig.colorbar(c01map, ax=axs,shrink=0.48)\n",
    "    name = title + '.png'\n",
    "    plt.title(title)\n",
    "    plt.legend()\n",
    "    fig.savefig('/Users/zitongzhou/Desktop/react_inverse/TCP_3d/images/'+name, format='png',bbox_inches='tight')\n",
    "    plt.show()\n",
    "    return"
   ]
  },
  {
   "cell_type": "markdown",
   "id": "concrete-label",
   "metadata": {},
   "source": [
    "## Parallel simulation"
   ]
  },
  {
   "cell_type": "code",
   "execution_count": 8,
   "id": "brutal-accreditation",
   "metadata": {},
   "outputs": [
    {
     "name": "stdout",
     "output_type": "stream",
     "text": [
      "5\n",
      "parallel sampling time: 9444.728926897049\n",
      "number of simulations: 1000\n"
     ]
    }
   ],
   "source": [
    "if __name__ == '__main__':\n",
    "#     for n_pool in range(1, multiprocessing.cpu_count()):\n",
    "    n_pool = 5\n",
    "    pool = Pool(n_pool)\n",
    "    cwd = '/Users/zitongzhou/Desktop/simu_inputs.tmp/'\n",
    "    filelist = os.listdir(cwd)\n",
    "    filelist = [file for file in filelist if file.endswith('.hdf5')]\n",
    "#     filelist = filelist[:5]\n",
    "    os.chdir(cwd)\n",
    "    start = time.time()\n",
    "    pool.map(simu, filelist)\n",
    "    print(n_pool)\n",
    "    print('parallel sampling time:',time.time() - start)\n",
    "    print('number of simulations:', len(filelist))"
   ]
  }
 ],
 "metadata": {
  "kernelspec": {
   "display_name": "Python 3",
   "language": "python",
   "name": "python3"
  },
  "language_info": {
   "codemirror_mode": {
    "name": "ipython",
    "version": 3
   },
   "file_extension": ".py",
   "mimetype": "text/x-python",
   "name": "python",
   "nbconvert_exporter": "python",
   "pygments_lexer": "ipython3",
   "version": "3.8.2"
  }
 },
 "nbformat": 4,
 "nbformat_minor": 5
}
