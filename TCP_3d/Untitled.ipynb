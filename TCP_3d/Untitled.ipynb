{
 "cells": [
  {
   "cell_type": "code",
   "execution_count": 9,
   "id": "informational-child",
   "metadata": {},
   "outputs": [
    {
     "name": "stdout",
     "output_type": "stream",
     "text": [
      "3.8.5 (default, Sep  4 2020, 02:22:02) \n",
      "[Clang 10.0.0 ]\n",
      "numpy version: 1.19.2\n",
      "matplotlib version: 3.3.1\n",
      "flopy version: 3.3.2\n"
     ]
    }
   ],
   "source": [
    "from scipy.io import loadmat\n",
    "import matplotlib.pyplot as plt\n",
    "import numpy as np\n",
    "import time\n",
    "import pickle as pk\n",
    "from smt.sampling_methods import LHS\n",
    "# from my_model import mymf\n",
    "import sys\n",
    "import os\n",
    "import numpy as np\n",
    "import matplotlib as mpl\n",
    "import pickle as pk\n",
    "import matplotlib.pyplot as plt\n",
    "import flopy.utils.binaryfile as bf\n",
    "import shutil\n",
    "from IPython.display import clear_output\n",
    "from time import sleep\n",
    "\n",
    "# run installed version of flopy or add local path\n",
    "try:\n",
    "    import flopy\n",
    "except:\n",
    "    fpth = os.path.abspath(os.path.join('..', '..'))\n",
    "    sys.path.append(fpth)\n",
    "    import flopy\n",
    "    \n",
    "from flopy.utils.util_array import read1d\n",
    "mpl.rcParams['figure.figsize'] = (8, 8)\n",
    "\n",
    "# exe_name_mf = '/Users/zitongzhou/Downloads/pymake/examples/mf2005'\n",
    "# exe_name_mt = '/Users/zitongzhou/Downloads/pymake/examples/mt3dms'\n",
    "exe_name_mf = 'C:/Users/ztzhou/WRDAPP/MF2005.1_12/bin/mf2005'\n",
    "exe_name_mt = 'C:/Users/ztzhou/WRDAPP/MF2005.1_12/bin/mt3dms5b.exe'\n",
    "datadir = os.path.join('..', 'mt3d_test', 'mt3dms')\n",
    "workdir = os.path.join('.',)\n",
    "    \n",
    "print(sys.version)\n",
    "print('numpy version: {}'.format(np.__version__))\n",
    "print('matplotlib version: {}'.format(mpl.__version__))\n",
    "print('flopy version: {}'.format(flopy.__version__))\n",
    "\n",
    "# annots = loadmat(\"/Volumes/GoogleDrive/My Drive/inverse_modeling/reactive_transport/kd.mat\")\n",
    "# annots.keys()\n",
    "\n",
    "# kle = annots['kle_terms']\n",
    "# K = annots['K']"
   ]
  },
  {
   "cell_type": "code",
   "execution_count": 5,
   "id": "deadly-madrid",
   "metadata": {},
   "outputs": [],
   "source": [
    "N = 1500\n",
    "local_state = np.random.RandomState(seed = None)\n",
    "\n",
    "### x\n",
    "np.random.seed(888)\n",
    "y_wel = np.array([6, 13, 20, 27, 34,\n",
    "        6, 13, 20, 27, 34,\n",
    "        6, 13, 20, 27, 34,\n",
    "        6, 13, 20, 27, 34])# #np.random.randint(low = 5, high = 35, size = 20)\n",
    "x_wel = np.array([1, 1, 1, 1, 1, \n",
    "         7, 7, 7, 7, 7,\n",
    "         13, 13, 13, 13, 13,\n",
    "         20, 20, 20, 20, 20])# #np.random.randint(low = 0, high = 25, size = 20)\n",
    "wells = {i: [3, y_wel[i], x_wel[i]] for i in range(len(y_wel))}\n",
    "\n",
    "x_ind = np.random.choice(20, N)\n",
    "\n",
    "x = [wells[x_ind[i]] for i in range(N)]\n",
    "\n",
    "### q\n",
    "q = 100*np.random.randint(low=1, high=15, size=(N, 5))\n",
    "\n",
    "### make well stress period data:\n",
    "mod_wels = {}\n",
    "con_rate = {}\n",
    "for mod in range(N):\n",
    "    welspd = {}\n",
    "    for i in range(5):\n",
    "        welspd[i] = [3, x[mod][0], x[mod][1], q[mod, i], 2]\n",
    "    welspd[5] = [3, x[mod][0], x[mod][1], 0, 2]\n",
    "    mod_wels[mod] = welspd\n",
    "    "
   ]
  },
  {
   "cell_type": "code",
   "execution_count": 7,
   "id": "motivated-jersey",
   "metadata": {
    "scrolled": true
   },
   "outputs": [
    {
     "data": {
      "text/plain": [
       "{0: [3, 3, 27, 200, 2],\n",
       " 1: [3, 3, 27, 400, 2],\n",
       " 2: [3, 3, 27, 300, 2],\n",
       " 3: [3, 3, 27, 900, 2],\n",
       " 4: [3, 3, 27, 700, 2],\n",
       " 5: [3, 3, 27, 0, 2]}"
      ]
     },
     "execution_count": 7,
     "metadata": {},
     "output_type": "execute_result"
    }
   ],
   "source": [
    "mod_wels[0]"
   ]
  }
 ],
 "metadata": {
  "kernelspec": {
   "display_name": "Python 3",
   "language": "python",
   "name": "python3"
  },
  "language_info": {
   "codemirror_mode": {
    "name": "ipython",
    "version": 3
   },
   "file_extension": ".py",
   "mimetype": "text/x-python",
   "name": "python",
   "nbconvert_exporter": "python",
   "pygments_lexer": "ipython3",
   "version": "3.8.5"
  }
 },
 "nbformat": 4,
 "nbformat_minor": 5
}
